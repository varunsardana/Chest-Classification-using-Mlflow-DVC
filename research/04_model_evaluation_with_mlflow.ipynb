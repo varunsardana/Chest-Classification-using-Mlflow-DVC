{
 "cells": [
  {
   "cell_type": "code",
   "execution_count": 1,
   "id": "3fcc2800",
   "metadata": {},
   "outputs": [],
   "source": [
    "import os"
   ]
  },
  {
   "cell_type": "code",
   "execution_count": 2,
   "id": "add6ae31",
   "metadata": {},
   "outputs": [
    {
     "data": {
      "text/plain": [
       "'/Users/varunsardana/Chest-Classification-using-Mlflow-DVC/research'"
      ]
     },
     "execution_count": 2,
     "metadata": {},
     "output_type": "execute_result"
    }
   ],
   "source": [
    "%pwd"
   ]
  },
  {
   "cell_type": "code",
   "execution_count": 3,
   "id": "3929f935",
   "metadata": {},
   "outputs": [],
   "source": [
    "os.chdir(\"../\")\n"
   ]
  },
  {
   "cell_type": "code",
   "execution_count": 4,
   "id": "5b6d86db",
   "metadata": {},
   "outputs": [
    {
     "data": {
      "text/plain": [
       "'/Users/varunsardana/Chest-Classification-using-Mlflow-DVC'"
      ]
     },
     "execution_count": 4,
     "metadata": {},
     "output_type": "execute_result"
    }
   ],
   "source": [
    "%pwd"
   ]
  },
  {
   "cell_type": "code",
   "execution_count": 1,
   "id": "69adc4dd",
   "metadata": {},
   "outputs": [],
   "source": [
    "import os\n",
    "import mlflow\n",
    "\n",
    "os.environ['MLFLOW_TRACKING_URI'] = 'https://dagshub.com/varunsardana2006/Chest-Classification-using-Mlflow-DVC.mlflow'\n",
    "os.environ['MLFLOW_TRACKING_USERNAME'] = 'varunsardana2006'\n",
    "os.environ['MLFLOW_TRACKING_PASSWORD'] = '6c78c96e08f9f18793ebde7944e6b4017fcfa21b'\n",
    "\n",
    "mlflow.set_experiment(\"my_experiment\")\n",
    "\n",
    "with mlflow.start_run():\n",
    "    mlflow.log_param(\"lr\", 0.001)\n",
    "    mlflow.log_metric(\"accuracy\", 0.95)"
   ]
  },
  {
   "cell_type": "code",
   "execution_count": 5,
   "id": "e00adee2",
   "metadata": {},
   "outputs": [],
   "source": [
    "import tensorflow as tf"
   ]
  },
  {
   "cell_type": "code",
   "execution_count": 6,
   "id": "0d242c60",
   "metadata": {},
   "outputs": [],
   "source": [
    "model = tf.keras.models.load_model(\"artifacts/training/model.h5\")"
   ]
  },
  {
   "cell_type": "code",
   "execution_count": 7,
   "id": "3f7aeaff",
   "metadata": {},
   "outputs": [],
   "source": [
    "from dataclasses import dataclass\n",
    "from pathlib import Path\n",
    "\n",
    "@dataclass(frozen=True)\n",
    "class EvaluationConfig:\n",
    "    path_of_model: Path\n",
    "    training_data: Path\n",
    "    all_params: dict\n",
    "    mlflow_uri: str\n",
    "    params_image_size: list\n",
    "    params_batch_size: int"
   ]
  },
  {
   "cell_type": "code",
   "execution_count": 8,
   "id": "cbf1ef86",
   "metadata": {},
   "outputs": [],
   "source": [
    "from chestcancerClassifier.constants import *\n",
    "from chestcancerClassifier.utils.common import read_yaml, create_directories, save_json"
   ]
  },
  {
   "cell_type": "code",
   "execution_count": 9,
   "id": "22ac2112",
   "metadata": {},
   "outputs": [],
   "source": [
    "class ConfigurationManager:\n",
    "    def __init__(\n",
    "        self, \n",
    "        config_filepath = CONFIG_FILE_PATH,\n",
    "        params_filepath = PARAMS_FILE_PATH):\n",
    "        self.config = read_yaml(config_filepath)\n",
    "        self.params = read_yaml(params_filepath)\n",
    "        create_directories([self.config.artifacts_root])\n",
    "\n",
    "    \n",
    "    def get_evaluation_config(self) -> EvaluationConfig:  #the -> EvaluationConfig part tells that it returns an EvaluationConfig object\n",
    "        eval_config = EvaluationConfig(\n",
    "            path_of_model=\"artifacts/training/model.h5\",\n",
    "            training_data=\"artifacts/data_ingestion/Chest-CT-Scan-data\",\n",
    "            mlflow_uri=\"https://dagshub.com/varunsardana2006/Chest-Classification-using-Mlflow-DVC.mlflow\",\n",
    "            all_params=self.params,\n",
    "            params_image_size=self.params.IMAGE_SIZE,\n",
    "            params_batch_size=self.params.BATCH_SIZE\n",
    "        )\n",
    "        return eval_config"
   ]
  },
  {
   "cell_type": "code",
   "execution_count": 10,
   "id": "edf3e5cc",
   "metadata": {},
   "outputs": [],
   "source": [
    "import tensorflow as tf\n",
    "import keras\n",
    "from pathlib import Path\n",
    "import mlflow\n",
    "import mlflow.keras\n",
    "from urllib.parse import urlparse"
   ]
  },
  {
   "cell_type": "code",
   "execution_count": 11,
   "id": "fe6b0000",
   "metadata": {},
   "outputs": [],
   "source": [
    "\n",
    "class Evaluation:\n",
    "    def __init__(self, config: EvaluationConfig):\n",
    "        self.config = config\n",
    "\n",
    "    \n",
    "    def _valid_generator(self):\n",
    "\n",
    "        datagenerator_kwargs = dict(\n",
    "            rescale = 1./255,\n",
    "            validation_split=0.30\n",
    "        )\n",
    "\n",
    "        dataflow_kwargs = dict(\n",
    "            target_size=self.config.params_image_size[:-1],\n",
    "            batch_size=self.config.params_batch_size,\n",
    "            interpolation=\"bilinear\"\n",
    "        )\n",
    "\n",
    "        valid_datagenerator = tf.keras.preprocessing.image.ImageDataGenerator(\n",
    "            **datagenerator_kwargs\n",
    "        )\n",
    "\n",
    "        self.valid_generator = valid_datagenerator.flow_from_directory(\n",
    "            directory=self.config.training_data,\n",
    "            subset=\"validation\",\n",
    "            shuffle=False,\n",
    "            **dataflow_kwargs\n",
    "        )\n",
    "\n",
    "\n",
    "    @staticmethod\n",
    "    def load_model(path: Path) -> tf.keras.Model:\n",
    "        return tf.keras.models.load_model(path)\n",
    "    \n",
    "\n",
    "    def evaluation(self):\n",
    "        self.model = self.load_model(self.config.path_of_model)\n",
    "        self._valid_generator()\n",
    "        self.score = self.model.evaluate(self.valid_generator)\n",
    "        self.save_score()\n",
    "\n",
    "    def save_score(self):\n",
    "        scores = {\"loss\": self.score[0], \"accuracy\": self.score[1]}\n",
    "        save_json(path=Path(\"scores.json\"), data=scores)\n",
    "\n",
    "    \n",
    "    def log_into_mlflow(self):\n",
    "        import tensorflow.keras\n",
    "        tensorflow.keras.__version__ = tf.__version__\n",
    "\n",
    "        mlflow.set_registry_uri(self.config.mlflow_uri)\n",
    "        tracking_url_type_store = urlparse(mlflow.get_tracking_uri()).scheme\n",
    "\n",
    "        with mlflow.start_run():\n",
    "            mlflow.log_params(self.config.all_params)\n",
    "            mlflow.log_metrics(\n",
    "                {\"loss\": self.score[0], \"accuracy\": self.score[1]}\n",
    "            )\n",
    "\n",
    "            # Always use keras flavor to avoid distutils error\n",
    "            mlflow.keras.log_model(self.model, \"model\", registered_model_name=\"VGG16Model\")"
   ]
  },
  {
   "cell_type": "code",
   "execution_count": 12,
   "id": "ae2db380",
   "metadata": {},
   "outputs": [
    {
     "name": "stdout",
     "output_type": "stream",
     "text": [
      "✅ Run 72f64853dd2b4b389c255c6b0fd754d5 deleted successfully.\n"
     ]
    }
   ],
   "source": [
    "import os\n",
    "import mlflow\n",
    "\n",
    "# Set environment credentials\n",
    "os.environ[\"MLFLOW_TRACKING_USERNAME\"] = \"varunsardana2006\"\n",
    "os.environ[\"MLFLOW_TRACKING_PASSWORD\"] = \"6c78c96e08f9f18793ebde7944e6b4017fcfa21b\"\n",
    "\n",
    "# Set the tracking URI to DagsHub\n",
    "mlflow.set_tracking_uri(\"https://dagshub.com/varunsardana2006/Chest-Classification-using-Mlflow-DVC.mlflow\")\n",
    "\n",
    "# Your run ID to delete\n",
    "run_id = \"72f64853dd2b4b389c255c6b0fd754d5\"\n",
    "\n",
    "# Delete the run\n",
    "mlflow.delete_run(run_id)\n",
    "\n",
    "print(f\"✅ Run {run_id} deleted successfully.\")"
   ]
  },
  {
   "cell_type": "code",
   "execution_count": 23,
   "id": "75d9a240",
   "metadata": {},
   "outputs": [
    {
     "name": "stdout",
     "output_type": "stream",
     "text": [
      "✅ Run d2a280fa011d4613b578981918881d6a deleted successfully.\n"
     ]
    }
   ],
   "source": [
    "import os\n",
    "import mlflow\n",
    "\n",
    "# Set environment credentials\n",
    "os.environ[\"MLFLOW_TRACKING_USERNAME\"] = \"varunsardana2006\"\n",
    "os.environ[\"MLFLOW_TRACKING_PASSWORD\"] = \"6c78c96e08f9f18793ebde7944e6b4017fcfa21b\"\n",
    "\n",
    "# Set the tracking URI to DagsHub\n",
    "mlflow.set_tracking_uri(\"https://dagshub.com/varunsardana2006/Chest-Classification-using-Mlflow-DVC.mlflow\")\n",
    "\n",
    "# Your run ID to delete\n",
    "run_id = \"d2a280fa011d4613b578981918881d6a\"\n",
    "\n",
    "# Delete the run\n",
    "mlflow.delete_run(run_id)\n",
    "\n",
    "print(f\"✅ Run {run_id} deleted successfully.\")"
   ]
  },
  {
   "cell_type": "code",
   "execution_count": 24,
   "id": "1a54ae20",
   "metadata": {},
   "outputs": [
    {
     "name": "stdout",
     "output_type": "stream",
     "text": [
      "✅ Run db75c12806f64e019da6f3dc6348d036 deleted successfully.\n"
     ]
    }
   ],
   "source": [
    "import os\n",
    "import mlflow\n",
    "\n",
    "# Set environment credentials\n",
    "os.environ[\"MLFLOW_TRACKING_USERNAME\"] = \"varunsardana2006\"\n",
    "os.environ[\"MLFLOW_TRACKING_PASSWORD\"] = \"6c78c96e08f9f18793ebde7944e6b4017fcfa21b\"\n",
    "\n",
    "# Set the tracking URI to DagsHub\n",
    "mlflow.set_tracking_uri(\"https://dagshub.com/varunsardana2006/Chest-Classification-using-Mlflow-DVC.mlflow\")\n",
    "\n",
    "# Your run ID to delete\n",
    "run_id = \"db75c12806f64e019da6f3dc6348d036\"\n",
    "\n",
    "# Delete the run\n",
    "mlflow.delete_run(run_id)\n",
    "\n",
    "print(f\"✅ Run {run_id} deleted successfully.\")"
   ]
  },
  {
   "cell_type": "code",
   "execution_count": 13,
   "id": "257c06b3",
   "metadata": {},
   "outputs": [
    {
     "name": "stdout",
     "output_type": "stream",
     "text": [
      "[2025-07-30 12:48:08,148: INFO: common: yaml file: config/config.yaml loaded successfully]\n",
      "[2025-07-30 12:48:08,151: INFO: common: yaml file: params.yaml loaded successfully]\n",
      "[2025-07-30 12:48:08,152: INFO: common: created directory at: artifacts]\n",
      "Found 102 images belonging to 2 classes.\n",
      "7/7 [==============================] - 28s 4s/step - loss: 15.3334 - accuracy: 0.4314\n",
      "[2025-07-30 12:48:36,649: INFO: common: json file saved at: scores.json]\n"
     ]
    },
    {
     "name": "stderr",
     "output_type": "stream",
     "text": [
      "2025/07/30 12:48:37 WARNING mlflow.tensorflow: You are saving a TensorFlow Core model or Keras model without a signature. Inference with mlflow.pyfunc.spark_udf() will not work unless the model's pyfunc representation accepts pandas DataFrames as inference inputs.\n"
     ]
    },
    {
     "name": "stdout",
     "output_type": "stream",
     "text": [
      "INFO:tensorflow:Assets written to: /var/folders/t2/_lp651dj2b1fcvgx6gpfll6w0000gn/T/tmpqa3sw4pc/model/data/model/assets\n",
      "[2025-07-30 12:48:38,506: INFO: builder_impl: Assets written to: /var/folders/t2/_lp651dj2b1fcvgx6gpfll6w0000gn/T/tmpqa3sw4pc/model/data/model/assets]\n"
     ]
    },
    {
     "name": "stderr",
     "output_type": "stream",
     "text": [
      "2025/07/30 12:48:44 WARNING mlflow.utils.environment: Encountered an unexpected error while inferring pip requirements (model URI: /var/folders/t2/_lp651dj2b1fcvgx6gpfll6w0000gn/T/tmpqa3sw4pc/model, flavor: tensorflow), fall back to return ['tensorflow==2.13.0']. Set logging level to DEBUG to see the full traceback.\n",
      "/opt/miniconda3/envs/cancer/lib/python3.8/site-packages/_distutils_hack/__init__.py:31: UserWarning: Setuptools is replacing distutils. Support for replacing an already imported distutils is deprecated. In the future, this condition will fail. Register concerns at https://github.com/pypa/setuptools/issues/new?template=distutils-deprecation.yml\n",
      "  warnings.warn(\n",
      "Successfully registered model 'VGG16Model'.\n",
      "2025/07/30 12:48:56 INFO mlflow.tracking._model_registry.client: Waiting up to 300 seconds for model version to finish creation.                     Model name: VGG16Model, version 1\n",
      "Created version '1' of model 'VGG16Model'.\n"
     ]
    }
   ],
   "source": [
    "try:\n",
    "    config = ConfigurationManager()\n",
    "    eval_config = config.get_evaluation_config()\n",
    "    evaluation = Evaluation(eval_config)\n",
    "    evaluation.evaluation()\n",
    "    evaluation.log_into_mlflow()\n",
    "\n",
    "except Exception as e:\n",
    "   raise e"
   ]
  }
 ],
 "metadata": {
  "kernelspec": {
   "display_name": "cancer",
   "language": "python",
   "name": "python3"
  },
  "language_info": {
   "codemirror_mode": {
    "name": "ipython",
    "version": 3
   },
   "file_extension": ".py",
   "mimetype": "text/x-python",
   "name": "python",
   "nbconvert_exporter": "python",
   "pygments_lexer": "ipython3",
   "version": "3.8.20"
  }
 },
 "nbformat": 4,
 "nbformat_minor": 5
}
