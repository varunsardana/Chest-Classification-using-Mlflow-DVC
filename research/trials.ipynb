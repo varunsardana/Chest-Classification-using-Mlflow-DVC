{
 "cells": [
  {
   "cell_type": "code",
   "execution_count": 15,
   "id": "c8683322",
   "metadata": {},
   "outputs": [],
   "source": [
    "import gdown"
   ]
  },
  {
   "cell_type": "code",
   "execution_count": 16,
   "id": "1a4ad899",
   "metadata": {},
   "outputs": [],
   "source": [
    "url = \"https://drive.google.com/file/d/1bAjFxDLTcfvUFuX79wZLEZY-GwvvpErV/view?usp=drive_link\""
   ]
  },
  {
   "cell_type": "code",
   "execution_count": 17,
   "id": "afe6707f",
   "metadata": {},
   "outputs": [],
   "source": [
    "file_id = url.split(\"/\")[-2]"
   ]
  },
  {
   "cell_type": "code",
   "execution_count": 18,
   "id": "67b91198",
   "metadata": {},
   "outputs": [],
   "source": [
    "direct_url = f\"https://drive.google.com/uc?id={file_id}\""
   ]
  },
  {
   "cell_type": "code",
   "execution_count": 20,
   "id": "2249ca18",
   "metadata": {},
   "outputs": [
    {
     "name": "stderr",
     "output_type": "stream",
     "text": [
      "Downloading...\n",
      "From (original): https://drive.google.com/uc?id=1bAjFxDLTcfvUFuX79wZLEZY-GwvvpErV\n",
      "From (redirected): https://drive.google.com/uc?id=1bAjFxDLTcfvUFuX79wZLEZY-GwvvpErV&confirm=t&uuid=68649890-c929-4800-a6e4-730e91ded458\n",
      "To: /Users/varunsardana/Chest-Classification-using-Mlflow-DVC/research/Chest_CT_scan.zip\n",
      "100%|██████████| 44.7M/44.7M [00:04<00:00, 10.6MB/s]\n"
     ]
    },
    {
     "data": {
      "text/plain": [
       "'Chest_CT_scan.zip'"
      ]
     },
     "execution_count": 20,
     "metadata": {},
     "output_type": "execute_result"
    }
   ],
   "source": [
    "output_path = \"Chest_CT_scan.zip\"\n",
    "gdown.download(direct_url, output_path, quiet=False)"
   ]
  },
  {
   "cell_type": "code",
   "execution_count": null,
   "id": "0e39dbee",
   "metadata": {},
   "outputs": [],
   "source": [
    "\n"
   ]
  }
 ],
 "metadata": {
  "kernelspec": {
   "display_name": "cancer",
   "language": "python",
   "name": "python3"
  },
  "language_info": {
   "codemirror_mode": {
    "name": "ipython",
    "version": 3
   },
   "file_extension": ".py",
   "mimetype": "text/x-python",
   "name": "python",
   "nbconvert_exporter": "python",
   "pygments_lexer": "ipython3",
   "version": "3.8.20"
  }
 },
 "nbformat": 4,
 "nbformat_minor": 5
}
